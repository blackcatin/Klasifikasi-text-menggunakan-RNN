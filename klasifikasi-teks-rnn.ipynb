{
 "cells": [
  {
   "cell_type": "markdown",
   "id": "2e22781f",
   "metadata": {
    "papermill": {
     "duration": 0.003803,
     "end_time": "2025-06-22T07:02:06.193305",
     "exception": false,
     "start_time": "2025-06-22T07:02:06.189502",
     "status": "completed"
    },
    "tags": []
   },
   "source": [
    "# 📌 1. Pendahuluan\n",
    "\n",
    "Klasifikasi teks adalah salah satu tugas mendasar dalam bidang pemrosesan bahasa alami (NLP) yang memiliki banyak aplikasi nyata seperti deteksi spam, analisis sentimen, klasifikasi berita, dan lainnya. Dalam tugas ini, saya membangun model klasifikasi teks menggunakan arsitektur RNN, khususnya LSTM (Long Short-Term Memory), untuk memisahkan dua kelas teks: spam dan non-spam.\n",
    "\n",
    "Tujuan dari tugas ini bukan hanya mendapatkan model dengan akurasi tinggi, tetapi juga memahami proses berpikir, eksplorasi parameter, serta refleksi terhadap hasil dan tantangan yang dihadapi."
   ]
  },
  {
   "cell_type": "markdown",
   "id": "2c6ac12f",
   "metadata": {
    "papermill": {
     "duration": 0.002829,
     "end_time": "2025-06-22T07:02:06.199707",
     "exception": false,
     "start_time": "2025-06-22T07:02:06.196878",
     "status": "completed"
    },
    "tags": []
   },
   "source": [
    "# 📌 2. Dataset"
   ]
  },
  {
   "cell_type": "code",
   "execution_count": 1,
   "id": "b2e4ffbf",
   "metadata": {
    "_cell_guid": "b1076dfc-b9ad-4769-8c92-a6c4dae69d19",
    "_uuid": "8f2839f25d086af736a60e9eeb907d3b93b6e0e5",
    "execution": {
     "iopub.execute_input": "2025-06-22T07:02:06.207354Z",
     "iopub.status.busy": "2025-06-22T07:02:06.207032Z",
     "iopub.status.idle": "2025-06-22T07:02:08.367291Z",
     "shell.execute_reply": "2025-06-22T07:02:08.366274Z"
    },
    "papermill": {
     "duration": 2.166334,
     "end_time": "2025-06-22T07:02:08.369158",
     "exception": false,
     "start_time": "2025-06-22T07:02:06.202824",
     "status": "completed"
    },
    "tags": []
   },
   "outputs": [],
   "source": [
    "# Load dataset dari Kaggle\n",
    "import pandas as pd\n",
    "\n",
    "df = pd.read_csv('/kaggle/input/spam.csv', encoding='latin-1')\n",
    "df = df[['v1', 'v2']].rename(columns={'v1': 'label', 'v2': 'text'})\n"
   ]
  },
  {
   "cell_type": "markdown",
   "id": "0a2f4513",
   "metadata": {
    "papermill": {
     "duration": 0.002932,
     "end_time": "2025-06-22T07:02:08.375552",
     "exception": false,
     "start_time": "2025-06-22T07:02:08.372620",
     "status": "completed"
    },
    "tags": []
   },
   "source": [
    "# 📌 3. Implementasi Model"
   ]
  },
  {
   "cell_type": "code",
   "execution_count": 2,
   "id": "2e46a0bd",
   "metadata": {
    "execution": {
     "iopub.execute_input": "2025-06-22T07:02:08.382876Z",
     "iopub.status.busy": "2025-06-22T07:02:08.382567Z",
     "iopub.status.idle": "2025-06-22T07:02:28.563438Z",
     "shell.execute_reply": "2025-06-22T07:02:28.562366Z"
    },
    "papermill": {
     "duration": 20.186699,
     "end_time": "2025-06-22T07:02:28.565256",
     "exception": false,
     "start_time": "2025-06-22T07:02:08.378557",
     "status": "completed"
    },
    "tags": []
   },
   "outputs": [
    {
     "name": "stderr",
     "output_type": "stream",
     "text": [
      "2025-06-22 07:02:10.376016: E external/local_xla/xla/stream_executor/cuda/cuda_fft.cc:477] Unable to register cuFFT factory: Attempting to register factory for plugin cuFFT when one has already been registered\n",
      "WARNING: All log messages before absl::InitializeLog() is called are written to STDERR\n",
      "E0000 00:00:1750575730.644080      13 cuda_dnn.cc:8310] Unable to register cuDNN factory: Attempting to register factory for plugin cuDNN when one has already been registered\n",
      "E0000 00:00:1750575730.719271      13 cuda_blas.cc:1418] Unable to register cuBLAS factory: Attempting to register factory for plugin cuBLAS when one has already been registered\n"
     ]
    }
   ],
   "source": [
    "from tensorflow.keras.preprocessing.text import Tokenizer\n",
    "from tensorflow.keras.preprocessing.sequence import pad_sequences\n",
    "\n",
    "\n",
    "# Inisialisasi Tokenizer dan hitung vocab size\n",
    "tokenizer = Tokenizer()\n",
    "tokenizer.fit_on_texts(df['text'])\n",
    "\n",
    "# Ubah teks menjadi urutan token\n",
    "sequences = tokenizer.texts_to_sequences(df['text'])\n",
    "\n",
    "# Tentukan panjang maksimal (optional: berdasarkan distribusi panjang)\n",
    "maxlen = 100\n",
    "\n",
    "# Pad sequences\n",
    "X = pad_sequences(sequences, maxlen=maxlen)\n",
    "\n",
    "# Definisikan vocab_size\n",
    "vocab_size = len(tokenizer.word_index) + 1  # +1 karena padding = 0\n",
    "\n",
    "# Label encoding\n",
    "y = (df['label'] == 'spam').astype(int)\n"
   ]
  },
  {
   "cell_type": "code",
   "execution_count": 3,
   "id": "2560c164",
   "metadata": {
    "execution": {
     "iopub.execute_input": "2025-06-22T07:02:28.574451Z",
     "iopub.status.busy": "2025-06-22T07:02:28.573848Z",
     "iopub.status.idle": "2025-06-22T07:02:28.630552Z",
     "shell.execute_reply": "2025-06-22T07:02:28.629132Z"
    },
    "papermill": {
     "duration": 0.062776,
     "end_time": "2025-06-22T07:02:28.632453",
     "exception": false,
     "start_time": "2025-06-22T07:02:28.569677",
     "status": "completed"
    },
    "tags": []
   },
   "outputs": [
    {
     "name": "stderr",
     "output_type": "stream",
     "text": [
      "/usr/local/lib/python3.11/dist-packages/keras/src/layers/core/embedding.py:90: UserWarning: Argument `input_length` is deprecated. Just remove it.\n",
      "  warnings.warn(\n",
      "2025-06-22 07:02:28.587352: E external/local_xla/xla/stream_executor/cuda/cuda_driver.cc:152] failed call to cuInit: INTERNAL: CUDA error: Failed call to cuInit: UNKNOWN ERROR (303)\n"
     ]
    }
   ],
   "source": [
    "import tensorflow as tf\n",
    "from tensorflow.keras.models import Sequential\n",
    "from tensorflow.keras.layers import Embedding, LSTM, Dense, Dropout\n",
    "\n",
    "model = Sequential([\n",
    "    Embedding(input_dim=vocab_size, output_dim=128, input_length=maxlen),\n",
    "    LSTM(64, dropout=0.5, return_sequences=False),\n",
    "    Dense(1, activation='sigmoid')\n",
    "])\n"
   ]
  },
  {
   "cell_type": "code",
   "execution_count": 4,
   "id": "880e71cf",
   "metadata": {
    "execution": {
     "iopub.execute_input": "2025-06-22T07:02:28.641358Z",
     "iopub.status.busy": "2025-06-22T07:02:28.641005Z",
     "iopub.status.idle": "2025-06-22T07:02:28.893180Z",
     "shell.execute_reply": "2025-06-22T07:02:28.891502Z"
    },
    "papermill": {
     "duration": 0.259248,
     "end_time": "2025-06-22T07:02:28.895342",
     "exception": false,
     "start_time": "2025-06-22T07:02:28.636094",
     "status": "completed"
    },
    "tags": []
   },
   "outputs": [],
   "source": [
    "from tensorflow.keras.preprocessing.text import Tokenizer\n",
    "from tensorflow.keras.preprocessing.sequence import pad_sequences\n",
    "\n",
    "# Tokenisasi dan padding\n",
    "tokenizer = Tokenizer()\n",
    "tokenizer.fit_on_texts(df['text'])\n",
    "sequences = tokenizer.texts_to_sequences(df['text'])\n",
    "\n",
    "X = pad_sequences(sequences, maxlen=100)\n",
    "y = (df['label'] == 'spam').astype(int)\n"
   ]
  },
  {
   "cell_type": "code",
   "execution_count": 5,
   "id": "70a968c6",
   "metadata": {
    "execution": {
     "iopub.execute_input": "2025-06-22T07:02:28.906333Z",
     "iopub.status.busy": "2025-06-22T07:02:28.905985Z",
     "iopub.status.idle": "2025-06-22T07:02:29.079261Z",
     "shell.execute_reply": "2025-06-22T07:02:29.078191Z"
    },
    "papermill": {
     "duration": 0.180284,
     "end_time": "2025-06-22T07:02:29.081294",
     "exception": false,
     "start_time": "2025-06-22T07:02:28.901010",
     "status": "completed"
    },
    "tags": []
   },
   "outputs": [],
   "source": [
    "from sklearn.model_selection import train_test_split\n",
    "\n",
    "# Bagi data menjadi training dan validation\n",
    "X_train, X_val, y_train, y_val = train_test_split(\n",
    "    X, y, test_size=0.2, random_state=42, stratify=y\n",
    ")\n"
   ]
  },
  {
   "cell_type": "code",
   "execution_count": 6,
   "id": "45763ca2",
   "metadata": {
    "execution": {
     "iopub.execute_input": "2025-06-22T07:02:29.089523Z",
     "iopub.status.busy": "2025-06-22T07:02:29.089167Z",
     "iopub.status.idle": "2025-06-22T07:03:54.549647Z",
     "shell.execute_reply": "2025-06-22T07:03:54.548541Z"
    },
    "papermill": {
     "duration": 85.466596,
     "end_time": "2025-06-22T07:03:54.551487",
     "exception": false,
     "start_time": "2025-06-22T07:02:29.084891",
     "status": "completed"
    },
    "tags": []
   },
   "outputs": [
    {
     "name": "stdout",
     "output_type": "stream",
     "text": [
      "Epoch 1/10\n",
      "\u001b[1m140/140\u001b[0m \u001b[32m━━━━━━━━━━━━━━━━━━━━\u001b[0m\u001b[37m\u001b[0m \u001b[1m13s\u001b[0m 63ms/step - accuracy: 0.8962 - loss: 0.3041 - val_accuracy: 0.9812 - val_loss: 0.0651\n",
      "Epoch 2/10\n",
      "\u001b[1m140/140\u001b[0m \u001b[32m━━━━━━━━━━━━━━━━━━━━\u001b[0m\u001b[37m\u001b[0m \u001b[1m8s\u001b[0m 56ms/step - accuracy: 0.9876 - loss: 0.0462 - val_accuracy: 0.9839 - val_loss: 0.0532\n",
      "Epoch 3/10\n",
      "\u001b[1m140/140\u001b[0m \u001b[32m━━━━━━━━━━━━━━━━━━━━\u001b[0m\u001b[37m\u001b[0m \u001b[1m8s\u001b[0m 54ms/step - accuracy: 0.9946 - loss: 0.0237 - val_accuracy: 0.9857 - val_loss: 0.0491\n",
      "Epoch 4/10\n",
      "\u001b[1m140/140\u001b[0m \u001b[32m━━━━━━━━━━━━━━━━━━━━\u001b[0m\u001b[37m\u001b[0m \u001b[1m8s\u001b[0m 56ms/step - accuracy: 0.9960 - loss: 0.0109 - val_accuracy: 0.9883 - val_loss: 0.0498\n",
      "Epoch 5/10\n",
      "\u001b[1m140/140\u001b[0m \u001b[32m━━━━━━━━━━━━━━━━━━━━\u001b[0m\u001b[37m\u001b[0m \u001b[1m8s\u001b[0m 60ms/step - accuracy: 0.9999 - loss: 0.0016 - val_accuracy: 0.9892 - val_loss: 0.0466\n",
      "Epoch 6/10\n",
      "\u001b[1m140/140\u001b[0m \u001b[32m━━━━━━━━━━━━━━━━━━━━\u001b[0m\u001b[37m\u001b[0m \u001b[1m8s\u001b[0m 56ms/step - accuracy: 0.9997 - loss: 0.0013 - val_accuracy: 0.9874 - val_loss: 0.0490\n",
      "Epoch 7/10\n",
      "\u001b[1m140/140\u001b[0m \u001b[32m━━━━━━━━━━━━━━━━━━━━\u001b[0m\u001b[37m\u001b[0m \u001b[1m8s\u001b[0m 56ms/step - accuracy: 0.9991 - loss: 0.0028 - val_accuracy: 0.9857 - val_loss: 0.0714\n",
      "Epoch 8/10\n",
      "\u001b[1m140/140\u001b[0m \u001b[32m━━━━━━━━━━━━━━━━━━━━\u001b[0m\u001b[37m\u001b[0m \u001b[1m8s\u001b[0m 55ms/step - accuracy: 0.9993 - loss: 0.0019 - val_accuracy: 0.9892 - val_loss: 0.0584\n",
      "Epoch 9/10\n",
      "\u001b[1m140/140\u001b[0m \u001b[32m━━━━━━━━━━━━━━━━━━━━\u001b[0m\u001b[37m\u001b[0m \u001b[1m8s\u001b[0m 60ms/step - accuracy: 0.9997 - loss: 0.0010 - val_accuracy: 0.9892 - val_loss: 0.0623\n",
      "Epoch 10/10\n",
      "\u001b[1m140/140\u001b[0m \u001b[32m━━━━━━━━━━━━━━━━━━━━\u001b[0m\u001b[37m\u001b[0m \u001b[1m9s\u001b[0m 61ms/step - accuracy: 0.9996 - loss: 0.0018 - val_accuracy: 0.9892 - val_loss: 0.0591\n"
     ]
    }
   ],
   "source": [
    "model.compile(optimizer='adam', loss='binary_crossentropy', metrics=['accuracy'])\n",
    "history = model.fit(X_train, y_train, epochs=10, batch_size=32, validation_data=(X_val, y_val))\n"
   ]
  },
  {
   "cell_type": "markdown",
   "id": "eccc72f6",
   "metadata": {
    "papermill": {
     "duration": 0.065349,
     "end_time": "2025-06-22T07:03:54.684001",
     "exception": false,
     "start_time": "2025-06-22T07:03:54.618652",
     "status": "completed"
    },
    "tags": []
   },
   "source": [
    "# 📌 4. Evaluasi Hasil"
   ]
  },
  {
   "cell_type": "code",
   "execution_count": 7,
   "id": "32b27a7c",
   "metadata": {
    "execution": {
     "iopub.execute_input": "2025-06-22T07:03:54.877035Z",
     "iopub.status.busy": "2025-06-22T07:03:54.876637Z",
     "iopub.status.idle": "2025-06-22T07:03:57.152743Z",
     "shell.execute_reply": "2025-06-22T07:03:57.151749Z"
    },
    "papermill": {
     "duration": 2.403803,
     "end_time": "2025-06-22T07:03:57.154362",
     "exception": false,
     "start_time": "2025-06-22T07:03:54.750559",
     "status": "completed"
    },
    "tags": []
   },
   "outputs": [
    {
     "name": "stdout",
     "output_type": "stream",
     "text": [
      "\u001b[1m35/35\u001b[0m \u001b[32m━━━━━━━━━━━━━━━━━━━━\u001b[0m\u001b[37m\u001b[0m \u001b[1m1s\u001b[0m 28ms/step\n"
     ]
    },
    {
     "data": {
      "text/plain": [
       "<Axes: >"
      ]
     },
     "execution_count": 7,
     "metadata": {},
     "output_type": "execute_result"
    },
    {
     "data": {
      "image/png": "[encoded data removed]",
      "text/plain": [
       "<Figure size 640x480 with 2 Axes>"
      ]
     },
     "metadata": {},
     "output_type": "display_data"
    }
   ],
   "source": [
    "from sklearn.metrics import classification_report, confusion_matrix\n",
    "import seaborn as sns\n",
    "import matplotlib.pyplot as plt\n",
    "\n",
    "# Confusion matrix\n",
    "y_pred = model.predict(X_val) > 0.5\n",
    "cm = confusion_matrix(y_val, y_pred)\n",
    "sns.heatmap(cm, annot=True, fmt='d')\n"
   ]
  },
  {
   "cell_type": "code",
   "execution_count": 8,
   "id": "bc318831",
   "metadata": {
    "execution": {
     "iopub.execute_input": "2025-06-22T07:03:57.288951Z",
     "iopub.status.busy": "2025-06-22T07:03:57.288298Z",
     "iopub.status.idle": "2025-06-22T07:03:57.778999Z",
     "shell.execute_reply": "2025-06-22T07:03:57.777978Z"
    },
    "papermill": {
     "duration": 0.55919,
     "end_time": "2025-06-22T07:03:57.780667",
     "exception": false,
     "start_time": "2025-06-22T07:03:57.221477",
     "status": "completed"
    },
    "tags": []
   },
   "outputs": [
    {
     "data": {
      "image/png": "[encoded data removed]",
      "text/plain": [
       "<Figure size 1200x500 with 2 Axes>"
      ]
     },
     "metadata": {},
     "output_type": "display_data"
    }
   ],
   "source": [
    "import matplotlib.pyplot as plt\n",
    "\n",
    "# Plot akurasi\n",
    "plt.figure(figsize=(12, 5))\n",
    "\n",
    "plt.subplot(1, 2, 1)\n",
    "plt.plot(history.history['accuracy'], label='Train Accuracy')\n",
    "plt.plot(history.history['val_accuracy'], label='Val Accuracy')\n",
    "plt.title('Learning Curve - Accuracy')\n",
    "plt.xlabel('Epoch')\n",
    "plt.ylabel('Accuracy')\n",
    "plt.legend()\n",
    "plt.grid(True)\n",
    "\n",
    "# Plot loss\n",
    "plt.subplot(1, 2, 2)\n",
    "plt.plot(history.history['loss'], label='Train Loss')\n",
    "plt.plot(history.history['val_loss'], label='Val Loss')\n",
    "plt.title('Learning Curve - Loss')\n",
    "plt.xlabel('Epoch')\n",
    "plt.ylabel('Loss')\n",
    "plt.legend()\n",
    "plt.grid(True)\n",
    "\n",
    "plt.tight_layout()\n",
    "plt.show()\n"
   ]
  },
  {
   "cell_type": "markdown",
   "id": "c34acde4",
   "metadata": {
    "papermill": {
     "duration": 0.07002,
     "end_time": "2025-06-22T07:03:57.922826",
     "exception": false,
     "start_time": "2025-06-22T07:03:57.852806",
     "status": "completed"
    },
    "tags": []
   },
   "source": [
    "# 📌 5. Refleksi Pribadi\n",
    "\n",
    "- Overfitting – Model menunjukkan akurasi training yang hampir sempurna (>99%) namun akurasi validasi relatif stagnan di sekitar 98–99%, dengan val_loss cenderung naik setelah epoch ke-3.\n",
    "- Pemilihan Parameter – Saya sempat mencoba beberapa kombinasi seperti dropout dan jumlah unit LSTM untuk menstabilkan model, namun tetap ada gap antara train dan val.\n",
    "- Preprocessing – Teks memiliki variasi panjang dan gaya bahasa, sehingga perlu penyesuaian padding dan tokenisasi untuk menjaga konsistensi input.\n",
    "\n",
    "Solusi yang Dicoba:\n",
    "- Menambahkan dropout (dropout=0.5) untuk mengurangi overfitting.\n",
    "- Melakukan padding teks secara konsisten dan mencoba berbagai panjang input (maxlen).\n",
    "- Menggunakan stratified split agar distribusi label tetap seimbang.\n",
    "\n"
   ]
  },
  {
   "cell_type": "markdown",
   "id": "4a897163",
   "metadata": {
    "papermill": {
     "duration": 0.068604,
     "end_time": "2025-06-22T07:03:58.059252",
     "exception": false,
     "start_time": "2025-06-22T07:03:57.990648",
     "status": "completed"
    },
    "tags": []
   },
   "source": [
    "# 📌 6. Kesimpulan & Saran\n",
    "- Model LSTM berhasil mencapai akurasi validasi sekitar 98.3%, dengan confusion matrix menunjukkan performa yang cukup stabil:\n",
    "- 955 benar diklasifikasi sebagai kelas 0 (non-spam)\n",
    "- 140 benar diklasifikasi sebagai kelas 1 (spam)\n",
    "- Total 20 kesalahan klasifikasi (11 false positives, 9 false negatives)\n",
    "- Learning curve menunjukkan bahwa model belajar dengan cepat, namun mulai overfitting setelah beberapa epoch.\n",
    "- Loss validasi naik setelah titik tertentu meskipun akurasi tetap tinggi, menandakan model terlalu fit terhadap data training.\n",
    "\n",
    "Saran untuk Pengembangan Selanjutnya:\n",
    "- Early Stopping dan Model Checkpointing bisa ditambahkan untuk menyimpan model terbaik sebelum overfitting.\n",
    "- Eksplorasi model lain seperti GRU atau BiLSTM yang bisa menangani urutan panjang lebih efisien.\n",
    "- Pre-trained Embedding (misalnya GloVe atau Word2Vec) bisa dicoba untuk hasil yang lebih generalizable.\n",
    "- Augmentasi teks atau penambahan variasi data dari sumber lain akan meningkatkan generalisasi.\n",
    "- Evaluasi lanjutan dengan precision, recall, dan F1-score untuk melihat performa terhadap data imbang/tidak seimbang."
   ]
  }
 ],
 "metadata": {
  "kaggle": {
   "accelerator": "none",
   "dataSources": [
    {
     "datasetId": 483,
     "sourceId": 982,
     "sourceType": "datasetVersion"
    }
   ],
   "dockerImageVersionId": 31040,
   "isGpuEnabled": false,
   "isInternetEnabled": true,
   "language": "python",
   "sourceType": "notebook"
  },
  "kernelspec": {
   "display_name": "Python 3",
   "language": "python",
   "name": "python3"
  },
  "language_info": {
   "codemirror_mode": {
    "name": "ipython",
    "version": 3
   },
   "file_extension": ".py",
   "mimetype": "text/x-python",
   "name": "python",
   "nbconvert_exporter": "python",
   "pygments_lexer": "ipython3",
   "version": "3.11.11"
  },
  "papermill": {
   "default_parameters": {},
   "duration": 120.328875,
   "end_time": "2025-06-22T07:04:01.185251",
   "environment_variables": {},
   "exception": null,
   "input_path": "__notebook__.ipynb",
   "output_path": "__notebook__.ipynb",
   "parameters": {},
   "start_time": "2025-06-22T07:02:00.856376",
   "version": "2.6.0"
  }
 },
 "nbformat": 4,
 "nbformat_minor": 5
}
